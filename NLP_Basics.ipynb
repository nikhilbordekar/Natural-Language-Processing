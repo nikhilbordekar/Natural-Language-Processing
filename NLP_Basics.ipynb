{
  "nbformat": 4,
  "nbformat_minor": 0,
  "metadata": {
    "colab": {
      "provenance": [],
      "authorship_tag": "ABX9TyNH0TgBryRwkrTCNZ0lwkeY",
      "include_colab_link": true
    },
    "kernelspec": {
      "name": "python3",
      "display_name": "Python 3"
    },
    "language_info": {
      "name": "python"
    }
  },
  "cells": [
    {
      "cell_type": "markdown",
      "metadata": {
        "id": "view-in-github",
        "colab_type": "text"
      },
      "source": [
        "<a href=\"https://colab.research.google.com/github/nikhilbordekar/Natural-Language-Processing-NLP/blob/main/NLP_Basics.ipynb\" target=\"_parent\"><img src=\"https://colab.research.google.com/assets/colab-badge.svg\" alt=\"Open In Colab\"/></a>"
      ]
    },
    {
      "cell_type": "markdown",
      "source": [
        "## **What is NLP?**\n",
        "\n",
        "Natural language processing (NLP) is a machine learning technology that gives computers the ability to interpret, manipulate, and comprehend human language. Organizations today have large volumes of voice and text data from various communication channels like emails, text messages, social media newsfeeds, video, audio, and more. They use NLP software to automatically process this data, analyze the intent or sentiment in the message, and respond in real time to human communication."
      ],
      "metadata": {
        "id": "nuPgphDdISSj"
      }
    },
    {
      "cell_type": "markdown",
      "source": [
        "## **Why is NLP important?**\n",
        "\n",
        "Natural language processing (NLP) is critical to fully and efficiently analyze text and speech data. It can work through the differences in dialects, slang, and grammatical irregularities typical in day-to-day conversations.\n",
        "\n",
        "Companies use it for several automated tasks, such as to:\n",
        "\n",
        "*   Process, analyze, and archive large documents\n",
        "*   Analyze customer feedback or call center recordings\n",
        "\n",
        "*   Run chatbots for automated customer service\n",
        "*   Answer who-what-when-where questions\n",
        "\n",
        "*   Classify and extract text\n"
      ],
      "metadata": {
        "id": "iYbqV9BxIcjE"
      }
    },
    {
      "cell_type": "markdown",
      "source": [
        "## **Tokenization:**\n",
        "\n",
        "Tokenization is the process of breaking a text into smaller units called tokens. In the context of natural language processing (NLP), tokens are typically words, but they can also be sentences or other meaningful sub-elements. Tokenization is the first step in many NLP tasks and plays a crucial role in text analysis. Tokens are the building blocks used for various linguistic analyses.\n",
        "\n",
        "Example:\n",
        "\n",
        "Input: \"Tokenization is essential for NLP.\"\n",
        "\n",
        "Tokens: [\"Tokenization\", \"is\", \"essential\", \"for\", \"NLP\", \".\"]"
      ],
      "metadata": {
        "id": "GBUxLiz3JVjr"
      }
    },
    {
      "cell_type": "code",
      "source": [
        "# Tokenization of Paragraph/sentences\n",
        "import nltk #nltk: Natural language TookKit\n",
        "nltk.download('punkt')"
      ],
      "metadata": {
        "colab": {
          "base_uri": "https://localhost:8080/"
        },
        "id": "jHUIdk1GKs8b",
        "outputId": "bf72af58-5e03-4826-fde8-6c9833ec75db"
      },
      "execution_count": 6,
      "outputs": [
        {
          "output_type": "stream",
          "name": "stderr",
          "text": [
            "[nltk_data] Downloading package punkt to /root/nltk_data...\n",
            "[nltk_data]   Unzipping tokenizers/punkt.zip.\n"
          ]
        },
        {
          "output_type": "execute_result",
          "data": {
            "text/plain": [
              "True"
            ]
          },
          "metadata": {},
          "execution_count": 6
        }
      ]
    },
    {
      "cell_type": "code",
      "source": [
        "paragraph = \"\"\"Rohit Gurunath Sharma is an Indian international cricketer and the\n",
        "current captain of India national cricket team in all formats. Known for his batting elegance,\n",
        "Sharma is the record holder for most international sixes across all formats and most sixes in the\n",
        "World Cups and in a calendar year. He plays as a right-handed batsman for India national cricket team\n",
        "in international cricket, Mumbai Indians in IPL and for Mumbai in domestic cricket. He was the captain\n",
        "of Indian national team which played in 2023 World cup final.\n",
        "Sharma also captains Mumbai Indians and the team has won 5 titles in 2013, 2015, 2017, 2019 and 2020 under\n",
        "his leadership, making him the most successful captain in IPL history, sharing this record with MS Dhoni (5 title wins in IPL).\n",
        "With India, Sharma was a member of the team that won the 2007 T20 World Cup, and the 2013 ICC Champions Trophy, where he played\n",
        "in the finals of both tournaments. Rohit is one of four players to have played in every edition of the ICC T20 World Cup, from\n",
        "the inaugural edition in 2007 to the latest one in 2022.\"\"\""
      ],
      "metadata": {
        "id": "-ybgyr5iKETM"
      },
      "execution_count": 4,
      "outputs": []
    },
    {
      "cell_type": "code",
      "source": [
        "# Tokenizing Sentences\n",
        "sentences = nltk.sent_tokenize(paragraph)"
      ],
      "metadata": {
        "id": "wl_GGmw0LLUH"
      },
      "execution_count": 7,
      "outputs": []
    },
    {
      "cell_type": "code",
      "source": [
        "sentences"
      ],
      "metadata": {
        "colab": {
          "base_uri": "https://localhost:8080/"
        },
        "id": "agglg_X-L8t3",
        "outputId": "1ba6b97b-817a-4b7f-ca22-4324a387ffbb"
      },
      "execution_count": 8,
      "outputs": [
        {
          "output_type": "execute_result",
          "data": {
            "text/plain": [
              "['Rohit Gurunath Sharma is an Indian international cricketer and the \\ncurrent captain of India national cricket team in all formats.',\n",
              " 'Known for his batting elegance, \\nSharma is the record holder for most international sixes across all formats and most sixes in the \\nWorld Cups and in a calendar year.',\n",
              " 'He plays as a right-handed batsman for India national cricket team \\nin international cricket, Mumbai Indians in IPL and for Mumbai in domestic cricket.',\n",
              " 'He was the captain \\nof Indian national team which played in 2023 World cup final.',\n",
              " 'Sharma also captains Mumbai Indians and the team has won 5 titles in 2013, 2015, 2017, 2019 and 2020 under \\nhis leadership, making him the most successful captain in IPL history, sharing this record with MS Dhoni (5 title wins in IPL).',\n",
              " 'With India, Sharma was a member of the team that won the 2007 T20 World Cup, and the 2013 ICC Champions Trophy, where he played \\nin the finals of both tournaments.',\n",
              " 'Rohit is one of four players to have played in every edition of the ICC T20 World Cup, from \\nthe inaugural edition in 2007 to the latest one in 2022.']"
            ]
          },
          "metadata": {},
          "execution_count": 8
        }
      ]
    },
    {
      "cell_type": "code",
      "source": [
        "# Tokenizing Words\n",
        "words = nltk.word_tokenize(paragraph)"
      ],
      "metadata": {
        "id": "pjbzGF2jLdzN"
      },
      "execution_count": 9,
      "outputs": []
    },
    {
      "cell_type": "markdown",
      "source": [
        "## **Stemming:**\n",
        "\n",
        "Stemming is a text normalization technique that involves reducing words to their root or base form. The goal is to map words with similar meanings to the same root, even if the actual forms are different. Stemming removes prefixes or suffixes from words, allowing different variations of a word to be represented as the same token.\n",
        "\n",
        "Example:\n",
        "\n",
        "Original: \"running\"\n",
        "\n",
        "Stemmed: \"run\"\n",
        "\n",
        "Stemming is computationally less expensive but may not always produce valid words."
      ],
      "metadata": {
        "id": "xdwNmK1nMgod"
      }
    },
    {
      "cell_type": "code",
      "source": [
        "from nltk.stem import PorterStemmer\n",
        "from nltk.corpus import stopwords\n",
        "nltk.download('stopwords')"
      ],
      "metadata": {
        "colab": {
          "base_uri": "https://localhost:8080/"
        },
        "id": "Xl3F06UDMuPt",
        "outputId": "9c79d40e-8dd6-4d14-ebf0-702f8fb9bd7b"
      },
      "execution_count": 16,
      "outputs": [
        {
          "output_type": "stream",
          "name": "stderr",
          "text": [
            "[nltk_data] Downloading package stopwords to /root/nltk_data...\n",
            "[nltk_data]   Unzipping corpora/stopwords.zip.\n"
          ]
        },
        {
          "output_type": "execute_result",
          "data": {
            "text/plain": [
              "True"
            ]
          },
          "metadata": {},
          "execution_count": 16
        }
      ]
    },
    {
      "cell_type": "code",
      "source": [
        "stopwords.words('english')"
      ],
      "metadata": {
        "colab": {
          "base_uri": "https://localhost:8080/"
        },
        "id": "zD8GW_JKNXfi",
        "outputId": "85b0aa28-2bbf-4d53-ef35-a6bb8edeae34"
      },
      "execution_count": 17,
      "outputs": [
        {
          "output_type": "execute_result",
          "data": {
            "text/plain": [
              "['i',\n",
              " 'me',\n",
              " 'my',\n",
              " 'myself',\n",
              " 'we',\n",
              " 'our',\n",
              " 'ours',\n",
              " 'ourselves',\n",
              " 'you',\n",
              " \"you're\",\n",
              " \"you've\",\n",
              " \"you'll\",\n",
              " \"you'd\",\n",
              " 'your',\n",
              " 'yours',\n",
              " 'yourself',\n",
              " 'yourselves',\n",
              " 'he',\n",
              " 'him',\n",
              " 'his',\n",
              " 'himself',\n",
              " 'she',\n",
              " \"she's\",\n",
              " 'her',\n",
              " 'hers',\n",
              " 'herself',\n",
              " 'it',\n",
              " \"it's\",\n",
              " 'its',\n",
              " 'itself',\n",
              " 'they',\n",
              " 'them',\n",
              " 'their',\n",
              " 'theirs',\n",
              " 'themselves',\n",
              " 'what',\n",
              " 'which',\n",
              " 'who',\n",
              " 'whom',\n",
              " 'this',\n",
              " 'that',\n",
              " \"that'll\",\n",
              " 'these',\n",
              " 'those',\n",
              " 'am',\n",
              " 'is',\n",
              " 'are',\n",
              " 'was',\n",
              " 'were',\n",
              " 'be',\n",
              " 'been',\n",
              " 'being',\n",
              " 'have',\n",
              " 'has',\n",
              " 'had',\n",
              " 'having',\n",
              " 'do',\n",
              " 'does',\n",
              " 'did',\n",
              " 'doing',\n",
              " 'a',\n",
              " 'an',\n",
              " 'the',\n",
              " 'and',\n",
              " 'but',\n",
              " 'if',\n",
              " 'or',\n",
              " 'because',\n",
              " 'as',\n",
              " 'until',\n",
              " 'while',\n",
              " 'of',\n",
              " 'at',\n",
              " 'by',\n",
              " 'for',\n",
              " 'with',\n",
              " 'about',\n",
              " 'against',\n",
              " 'between',\n",
              " 'into',\n",
              " 'through',\n",
              " 'during',\n",
              " 'before',\n",
              " 'after',\n",
              " 'above',\n",
              " 'below',\n",
              " 'to',\n",
              " 'from',\n",
              " 'up',\n",
              " 'down',\n",
              " 'in',\n",
              " 'out',\n",
              " 'on',\n",
              " 'off',\n",
              " 'over',\n",
              " 'under',\n",
              " 'again',\n",
              " 'further',\n",
              " 'then',\n",
              " 'once',\n",
              " 'here',\n",
              " 'there',\n",
              " 'when',\n",
              " 'where',\n",
              " 'why',\n",
              " 'how',\n",
              " 'all',\n",
              " 'any',\n",
              " 'both',\n",
              " 'each',\n",
              " 'few',\n",
              " 'more',\n",
              " 'most',\n",
              " 'other',\n",
              " 'some',\n",
              " 'such',\n",
              " 'no',\n",
              " 'nor',\n",
              " 'not',\n",
              " 'only',\n",
              " 'own',\n",
              " 'same',\n",
              " 'so',\n",
              " 'than',\n",
              " 'too',\n",
              " 'very',\n",
              " 's',\n",
              " 't',\n",
              " 'can',\n",
              " 'will',\n",
              " 'just',\n",
              " 'don',\n",
              " \"don't\",\n",
              " 'should',\n",
              " \"should've\",\n",
              " 'now',\n",
              " 'd',\n",
              " 'll',\n",
              " 'm',\n",
              " 'o',\n",
              " 're',\n",
              " 've',\n",
              " 'y',\n",
              " 'ain',\n",
              " 'aren',\n",
              " \"aren't\",\n",
              " 'couldn',\n",
              " \"couldn't\",\n",
              " 'didn',\n",
              " \"didn't\",\n",
              " 'doesn',\n",
              " \"doesn't\",\n",
              " 'hadn',\n",
              " \"hadn't\",\n",
              " 'hasn',\n",
              " \"hasn't\",\n",
              " 'haven',\n",
              " \"haven't\",\n",
              " 'isn',\n",
              " \"isn't\",\n",
              " 'ma',\n",
              " 'mightn',\n",
              " \"mightn't\",\n",
              " 'mustn',\n",
              " \"mustn't\",\n",
              " 'needn',\n",
              " \"needn't\",\n",
              " 'shan',\n",
              " \"shan't\",\n",
              " 'shouldn',\n",
              " \"shouldn't\",\n",
              " 'wasn',\n",
              " \"wasn't\",\n",
              " 'weren',\n",
              " \"weren't\",\n",
              " 'won',\n",
              " \"won't\",\n",
              " 'wouldn',\n",
              " \"wouldn't\"]"
            ]
          },
          "metadata": {},
          "execution_count": 17
        }
      ]
    },
    {
      "cell_type": "code",
      "source": [
        "stemmer = PorterStemmer()"
      ],
      "metadata": {
        "id": "wKO2rLPaNHxS"
      },
      "execution_count": 12,
      "outputs": []
    },
    {
      "cell_type": "code",
      "source": [
        "# Stemming each and every word\n",
        "for i in range(len(sentences)):\n",
        "    words = nltk.word_tokenize(sentences[i])\n",
        "    words = [stemmer.stem(word) for word in words if word not in set(stopwords.words('english'))]\n",
        "    sentences[i] = ' '.join(words)"
      ],
      "metadata": {
        "id": "3gT7EjmtNJ2G"
      },
      "execution_count": 18,
      "outputs": []
    },
    {
      "cell_type": "code",
      "source": [
        "sentences"
      ],
      "metadata": {
        "colab": {
          "base_uri": "https://localhost:8080/"
        },
        "id": "-iX86rDXN4v7",
        "outputId": "d10f8327-49ce-4eca-cfa2-af2d8f02576b"
      },
      "execution_count": 19,
      "outputs": [
        {
          "output_type": "execute_result",
          "data": {
            "text/plain": [
              "['rohit gurunath sharma indian intern cricket current captain india nation cricket team format .',\n",
              " 'known bat eleg , sharma record holder intern six across format six world cup calendar year .',\n",
              " 'he play right-hand batsman india nation cricket team intern cricket , mumbai indian ipl mumbai domest cricket .',\n",
              " 'he captain indian nation team play 2023 world cup final .',\n",
              " 'sharma also captain mumbai indian team 5 titl 2013 , 2015 , 2017 , 2019 2020 leadership , make success captain ipl histori , share record ms dhoni ( 5 titl win ipl ) .',\n",
              " 'with india , sharma member team 2007 t20 world cup , 2013 icc champion trophi , play final tournament .',\n",
              " 'rohit one four player play everi edit icc t20 world cup , inaugur edit 2007 latest one 2022 .']"
            ]
          },
          "metadata": {},
          "execution_count": 19
        }
      ]
    },
    {
      "cell_type": "markdown",
      "source": [
        "## **Lemmatization:**\n",
        "Lemmatization is another text normalization technique that, like stemming, aims to reduce words to their base form. However, lemmatization considers the context and meaning of words, ensuring that the resulting base form (lemma) is a valid word. Lemmatization often involves using a vocabulary or a morphological analysis of words.\n",
        "\n",
        "Example:\n",
        "\n",
        "Original: \"better\"\n",
        "\n",
        "Lemmatized: \"good\"\n",
        "\n",
        "Lemmatization is more linguistically informed compared to stemming and tends to produce more accurate results, but it can be computationally more expensive."
      ],
      "metadata": {
        "id": "kld4cSf3OJUJ"
      }
    },
    {
      "cell_type": "code",
      "source": [
        "from nltk.stem import WordNetLemmatizer\n",
        "nltk.download('wordnet')\n"
      ],
      "metadata": {
        "colab": {
          "base_uri": "https://localhost:8080/"
        },
        "id": "0oLqbS3BOIhp",
        "outputId": "eb820416-6be2-462e-ab6e-9ac76a0c4641"
      },
      "execution_count": 22,
      "outputs": [
        {
          "output_type": "stream",
          "name": "stderr",
          "text": [
            "[nltk_data] Downloading package wordnet to /root/nltk_data...\n"
          ]
        },
        {
          "output_type": "execute_result",
          "data": {
            "text/plain": [
              "True"
            ]
          },
          "metadata": {},
          "execution_count": 22
        }
      ]
    },
    {
      "cell_type": "code",
      "source": [
        "lemmatizer = WordNetLemmatizer()"
      ],
      "metadata": {
        "id": "VKWW0-f3OdzD"
      },
      "execution_count": 23,
      "outputs": []
    },
    {
      "cell_type": "code",
      "source": [
        "# Lemmatization\n",
        "for i in range(len(sentences)):\n",
        "    words = nltk.word_tokenize(sentences[i])\n",
        "    words = [lemmatizer.lemmatize(word) for word in words if word not in set(stopwords.words('english'))]\n",
        "    sentences[i] = ' '.join(words)"
      ],
      "metadata": {
        "id": "cDm37YjaOYoV"
      },
      "execution_count": 24,
      "outputs": []
    },
    {
      "cell_type": "code",
      "source": [
        "sentences"
      ],
      "metadata": {
        "colab": {
          "base_uri": "https://localhost:8080/"
        },
        "id": "UqJNwTNbOg0w",
        "outputId": "a9300018-9e7c-43a2-dbe9-4dcb39a1bc00"
      },
      "execution_count": 25,
      "outputs": [
        {
          "output_type": "execute_result",
          "data": {
            "text/plain": [
              "['rohit gurunath sharma indian intern cricket current captain india nation cricket team format .',\n",
              " 'known bat eleg , sharma record holder intern six across format six world cup calendar year .',\n",
              " 'play right-hand batsman india nation cricket team intern cricket , mumbai indian ipl mumbai domest cricket .',\n",
              " 'captain indian nation team play 2023 world cup final .',\n",
              " 'sharma also captain mumbai indian team 5 titl 2013 , 2015 , 2017 , 2019 2020 leadership , make success captain ipl histori , share record m dhoni ( 5 titl win ipl ) .',\n",
              " 'india , sharma member team 2007 t20 world cup , 2013 icc champion trophi , play final tournament .',\n",
              " 'rohit one four player play everi edit icc t20 world cup , inaugur edit 2007 latest one 2022 .']"
            ]
          },
          "metadata": {},
          "execution_count": 25
        }
      ]
    },
    {
      "cell_type": "code",
      "source": [
        "import nltk\n",
        "\n",
        "para =  \"\"\"I have three visions for India. In 3000 years of our history, people from all over\n",
        "               the world have come and invaded us, captured our lands, conquered our minds.\n",
        "               From Alexander onwards, the Greeks, the Turks, the Moguls, the Portuguese, the British,\n",
        "               the French, the Dutch, all of them came and looted us, took over what was ours.\n",
        "               Yet we have not done this to any other nation. We have not conquered anyone.\n",
        "               We have not grabbed their land, their culture,\n",
        "               their history and tried to enforce our way of life on them.\n",
        "               Why? Because we respect the freedom of others.That is why my\n",
        "               first vision is that of freedom. I believe that India got its first vision of\n",
        "               this in 1857, when we started the War of Independence. It is this freedom that\n",
        "               we must protect and nurture and build on. If we are not free, no one will respect us.\n",
        "               My second vision for India’s development. For fifty years we have been a developing nation.\n",
        "               It is time we see ourselves as a developed nation. We are among the top 5 nations of the world\n",
        "               in terms of GDP. We have a 10 percent growth rate in most areas. Our poverty levels are falling.\n",
        "               Our achievements are being globally recognised today. Yet we lack the self-confidence to\n",
        "               see ourselves as a developed nation, self-reliant and self-assured. Isn’t this incorrect?\n",
        "               I have a third vision. India must stand up to the world. Because I believe that unless India\n",
        "               stands up to the world, no one will respect us. Only strength respects strength. We must be\n",
        "               strong not only as a military power but also as an economic power. Both must go hand-in-hand.\n",
        "               My good fortune was to have worked with three great minds. Dr. Vikram Sarabhai of the Dept. of\n",
        "               space, Professor Satish Dhawan, who succeeded him and Dr. Brahm Prakash, father of nuclear material.\n",
        "               I was lucky to have worked with all three of them closely and consider this the great opportunity of my life.\n",
        "               I see four milestones in my career\"\"\"\n",
        "\n",
        "\n"
      ],
      "metadata": {
        "id": "RoyEa6wWPeco"
      },
      "execution_count": 29,
      "outputs": []
    },
    {
      "cell_type": "code",
      "source": [
        "\n",
        "# Cleaning the texts\n",
        "import re\n",
        "from nltk.corpus import stopwords\n",
        "from nltk.stem.porter import PorterStemmer\n",
        "from nltk.stem import WordNetLemmatizer\n",
        "\n",
        "ps = PorterStemmer()\n",
        "wordnet=WordNetLemmatizer()\n",
        "sent = nltk.sent_tokenize(para)\n",
        "corpus = []\n",
        "for i in range(len(sent)):\n",
        "    review = re.sub('[^a-zA-Z]', ' ', sent[i])\n",
        "    review = review.lower()\n",
        "    review = review.split()\n",
        "    review = [ps.stem(word) for word in review if not word in set(stopwords.words('english'))]\n",
        "    review = ' '.join(review)\n",
        "    corpus.append(review)\n",
        "\n"
      ],
      "metadata": {
        "id": "ZAfru6dzPj7_"
      },
      "execution_count": 30,
      "outputs": []
    },
    {
      "cell_type": "code",
      "source": [
        "# Creating the Bag of Words model\n",
        "from sklearn.feature_extraction.text import CountVectorizer\n",
        "cv = CountVectorizer(max_features = 1500)\n",
        "X = cv.fit_transform(corpus).toarray()"
      ],
      "metadata": {
        "id": "yqf42rtvPyGs"
      },
      "execution_count": 31,
      "outputs": []
    },
    {
      "cell_type": "code",
      "source": [
        "X"
      ],
      "metadata": {
        "colab": {
          "base_uri": "https://localhost:8080/"
        },
        "id": "1nfbhlgCP3Vt",
        "outputId": "42fbc044-1d24-4fd3-f722-0e663aa991dd"
      },
      "execution_count": 32,
      "outputs": [
        {
          "output_type": "execute_result",
          "data": {
            "text/plain": [
              "array([[0, 0, 0, ..., 0, 0, 0],\n",
              "       [0, 0, 0, ..., 1, 1, 0],\n",
              "       [0, 1, 0, ..., 0, 0, 0],\n",
              "       ...,\n",
              "       [0, 0, 0, ..., 0, 0, 0],\n",
              "       [0, 0, 0, ..., 0, 0, 0],\n",
              "       [0, 0, 0, ..., 0, 0, 0]])"
            ]
          },
          "metadata": {},
          "execution_count": 32
        }
      ]
    },
    {
      "cell_type": "markdown",
      "source": [
        "# **Term Frequency-Inverse Document Frequency (TF-IDF):**\n",
        "TF-IDF is a numerical statistic that reflects the importance of a word in a document relative to a collection of documents (corpus). It combines Term Frequency (TF) and Inverse Document Frequency (IDF). TF measures the frequency of a word in a document, while IDF measures how unique or rare a word is across documents. The product of TF and IDF gives the TF-IDF score.\n",
        "\n",
        "Example:\n",
        "\n",
        "**Term Frequency (TF):** Number of times a word appears in a document.\n",
        "**Inverse Document Frequency (IDF):** Logarithm of the total number of documents divided by the number of documents containing the word.\n",
        "\n",
        " **TF-IDF = TF * IDF**\n",
        "\n",
        "TF-IDF helps identify important words in a document by assigning higher scores to words that are frequent in the document but rare across the entire corpus."
      ],
      "metadata": {
        "id": "IfP1f40IQpJk"
      }
    },
    {
      "cell_type": "code",
      "source": [
        "# Creating the BTF-IDF from cleaned corpus list from above example\n",
        "from sklearn.feature_extraction.text import TfidfVectorizer\n",
        "cvv = TfidfVectorizer()\n",
        "XX = cvv.fit_transform(corpus).toarray()"
      ],
      "metadata": {
        "id": "BjE43VnuQMJr"
      },
      "execution_count": 34,
      "outputs": []
    },
    {
      "cell_type": "code",
      "source": [
        "XX"
      ],
      "metadata": {
        "colab": {
          "base_uri": "https://localhost:8080/"
        },
        "id": "jvDG15bxQQ3r",
        "outputId": "3095a9ac-c18d-4736-ad6c-a051f6950a97"
      },
      "execution_count": 35,
      "outputs": [
        {
          "output_type": "execute_result",
          "data": {
            "text/plain": [
              "array([[0.        , 0.        , 0.        , ..., 0.        , 0.        ,\n",
              "        0.        ],\n",
              "       [0.        , 0.        , 0.        , ..., 0.25057734, 0.29539106,\n",
              "        0.        ],\n",
              "       [0.        , 0.28201784, 0.        , ..., 0.        , 0.        ,\n",
              "        0.        ],\n",
              "       ...,\n",
              "       [0.        , 0.        , 0.        , ..., 0.        , 0.        ,\n",
              "        0.        ],\n",
              "       [0.        , 0.        , 0.        , ..., 0.        , 0.        ,\n",
              "        0.        ],\n",
              "       [0.        , 0.        , 0.        , ..., 0.        , 0.        ,\n",
              "        0.        ]])"
            ]
          },
          "metadata": {},
          "execution_count": 35
        }
      ]
    }
  ]
}